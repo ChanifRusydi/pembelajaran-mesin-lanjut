{
  "nbformat": 4,
  "nbformat_minor": 0,
  "metadata": {
    "colab": {
      "provenance": [],
      "authorship_tag": "ABX9TyOaE3mNY7BZHJoPKgcWhG0a",
      "include_colab_link": true
    },
    "kernelspec": {
      "name": "python3",
      "display_name": "Python 3"
    },
    "language_info": {
      "name": "python"
    }
  },
  "cells": [
    {
      "cell_type": "markdown",
      "metadata": {
        "id": "view-in-github",
        "colab_type": "text"
      },
      "source": [
        "<a href=\"https://colab.research.google.com/github/ChanifRusydi/pembelajaran-mesin-lanjut/blob/main/Tugas2/Tugas2_PML.ipynb\" target=\"_parent\"><img src=\"https://colab.research.google.com/assets/colab-badge.svg\" alt=\"Open In Colab\"/></a>"
      ]
    },
    {
      "cell_type": "markdown",
      "source": [
        "**Random Walk Case**\n",
        "Grup 1\n",
        "1. Endang Rusiana\n",
        "2. Muchammad 'Irfan Chanif Rusydi\n",
        "3. Dimas Maulana"
      ],
      "metadata": {
        "id": "P5Ld0Ia1brTP"
      }
    },
    {
      "cell_type": "code",
      "source": [],
      "metadata": {
        "id": "Q_zWo9K5b0Vf"
      },
      "execution_count": null,
      "outputs": []
    }
  ]
}